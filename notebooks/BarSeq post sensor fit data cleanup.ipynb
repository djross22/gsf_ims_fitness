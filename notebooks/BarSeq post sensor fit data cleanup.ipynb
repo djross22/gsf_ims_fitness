{
 "cells": [
  {
   "cell_type": "code",
   "execution_count": null,
   "metadata": {
    "scrolled": true
   },
   "outputs": [],
   "source": [
    "import glob #filenames and pathnames utility\n",
    "import os   #operating sytem utility\n",
    "\n",
    "import matplotlib.pyplot as plt\n",
    "from matplotlib import colors\n",
    "#from matplotlib.backends.backend_pdf import PdfPages\n",
    "\n",
    "import gsf_ims_fitness as fitness\n",
    "\n",
    "import numpy as np\n",
    "import pandas as pd\n",
    "from scipy.optimize import curve_fit\n",
    "import scipy\n",
    "import scipy.special as sp\n",
    "#from scipy import special\n",
    "#from scipy import misc\n",
    "\n",
    "from Bio.Seq import Seq\n",
    "\n",
    "#import pystan\n",
    "import pickle\n",
    "\n",
    "import seaborn as sns\n",
    "sns.set()\n",
    "\n",
    "%load_ext autoreload\n",
    "%autoreload 2\n",
    "\n",
    "%matplotlib inline\n",
    "\n",
    "%autosave 0\n",
    "\n",
    "sns.set_style(\"white\")\n",
    "sns.set_style(\"ticks\", {'xtick.direction':'in', 'xtick.top':True, 'ytick.direction':'in', 'ytick.right':True})"
   ]
  },
  {
   "cell_type": "code",
   "execution_count": null,
   "metadata": {},
   "outputs": [],
   "source": [
    "total_count_threshold = 3000 # Only use data with > this number of total counts"
   ]
  },
  {
   "cell_type": "code",
   "execution_count": null,
   "metadata": {},
   "outputs": [],
   "source": [
    "notebook_directory = os.getcwd()\n",
    "notebook_directory"
   ]
  },
  {
   "cell_type": "code",
   "execution_count": null,
   "metadata": {
    "scrolled": false
   },
   "outputs": [],
   "source": [
    "glob.glob(\"*BarSeqFitnessFrame.pkl\")"
   ]
  },
  {
   "cell_type": "code",
   "execution_count": null,
   "metadata": {},
   "outputs": [],
   "source": [
    "pickle_file = '2019-10-16_IPTG_Select-DNA-5-plates_BarSeqFitnessFrame.pkl'\n",
    "\n",
    "HiSeq_data = pickle.load(open(pickle_file, 'rb'))\n",
    "\n",
    "count_frame_16 = HiSeq_data.barcode_frame"
   ]
  },
  {
   "cell_type": "code",
   "execution_count": null,
   "metadata": {},
   "outputs": [],
   "source": []
  },
  {
   "cell_type": "code",
   "execution_count": null,
   "metadata": {},
   "outputs": [],
   "source": [
    "# Data cleaning for NN modeling with Hill equation fits;\n",
    "#     add column with number of points where Hill equation fit is within 5%-95% confidence region of GP model fit\n",
    "def hill_funct(x, low, high, mid, n):\n",
    "    return low + (high-low)*( x**n )/( mid**n + x**n )\n",
    "\n",
    "def fit_funct(x, log_g_min, log_g_max, log_x_50, log_nx, *argv):\n",
    "    return hill_funct(x, 10**log_g_min, 10**log_g_max, 10**log_x_50, 10**log_nx)\n",
    "\n",
    "\n",
    "frame = count_frame_16\n",
    "x = np.array(HiSeq_data.inducer_conc_list)\n",
    "\n",
    "hill_params = frame[\"sensor_params\"]\n",
    "gp_quantiles = frame[\"sensor_GP_g_quantiles\"]\n",
    "\n",
    "num_points_list = []\n",
    "\n",
    "for hill, gp in zip(hill_params, gp_quantiles):\n",
    "    if (np.isnan(hill).any())|(np.isnan(gp).any()):\n",
    "        num = -1\n",
    "    else:\n",
    "        g_out = fit_funct(x, *hill)\n",
    "        low_bound = 10**gp[0]\n",
    "        high_bound = 10**gp[-1]\n",
    "        g_inside = g_out[(g_out>low_bound)&(g_out<high_bound)]\n",
    "        num = len(g_inside)\n",
    "    num_points_list.append(num)\n",
    "    \n",
    "count_frame_16[\"good_hill_fit_points\"] = num_points_list"
   ]
  },
  {
   "cell_type": "code",
   "execution_count": null,
   "metadata": {},
   "outputs": [],
   "source": [
    "plt.rcParams[\"figure.figsize\"] = [6,6]\n",
    "fig, axs = plt.subplots(1, 1)\n",
    "\n",
    "bins = [i-0.5 for i in range(-1,14)]\n",
    "axs.hist(count_frame_16[\"good_hill_fit_points\"], bins=bins);\n",
    "axs.set_yscale(\"log\")\n",
    "print(len(count_frame_16[count_frame_16[\"good_hill_fit_points\"]==12]))"
   ]
  },
  {
   "cell_type": "code",
   "execution_count": null,
   "metadata": {},
   "outputs": [],
   "source": []
  },
  {
   "cell_type": "code",
   "execution_count": null,
   "metadata": {},
   "outputs": [],
   "source": [
    "# Add columns for amino acid sequence, amino acid mutation number, and mutation codes\n",
    "wild_type_cds = 'TCACTGCCCGCTTTCCAGTCGGGAAACCTGTCGTGCCAGCTGCATTAATGAATCGGCCAACGCGCGGGGAGAGGCGGTTTGCGTATTGGGCGCCAGGGTGGTTTTTCTTTTCACCAGTGAGACTGGCAACAGCTGATTGCCCTTCACCGCCTGGCCCTGAGAGAGTTGCAGCAAGCGGTCCACGCTGGTTTGCCCCAGCAGGCGAAAATCCTGTTTGATGGTGGTTAACGGCGGGATATAACATGAGCTATCTTCGGTATCGTCGTATCCCACTACCGAGATATCCGCACCAACGCGCAGCCCGGACTCGGTAATGGCGCGCATTGCGCCCAGCGCCATCTGATCGTTGGCAACCAGCATCGCAGTGGGAACGATGCCCTCATTCAGCATTTGCATGGTTTGTTGAAAACCGGACATGGCACTCCAGTCGCCTTCCCGTTCCGCTATCGGCTGAATTTGATTGCGAGTGAGATATTTATGCCAGCCAGCCAGACGCAGACGCGCCGAGACAGAACTTAATGGGCCCGCTAACAGCGCGATTTGCTGGTGACCCAATGCGACCAGATGCTCCACGCCCAGTCGCGTACCGTCCTCATGGGAGAAAATAATACTGTTGATGGGTGTCTGGTCAGAGACATCAAGAAATAACGCCGGAACATTAGTGCAGGCAGCTTCCACAGCAATGGCATCCTGGTCATCCAGCGGATAGTTAATGATCAGCCCACTGACGCGTTGCGCGAGAAGATTGTGCACCGCCGCTTTACAGGCTTCGACGCCGCTTCGTTCTACCATCGACACCACCACGCTGGCACCCAGTTGATCGGCGCGAGATTTAATCGCCGCGACAATTTGCGACGGCGCGTGCAGGGCCAGACTGGAGGTGGCAACGCCAATCAGCAACGACTGTTTGCCCGCCAGTTGTTGTGCCACGCGGTTGGGAATGTAATTCAGCTCCGCCATCGCCGCTTCCACTTTTTCCCGCGTTTTCGCAGAAACGTGGCTGGCCTGGTTCACCACGCGGGAAACGGTCTGATAAGAGACACCGGCATACTCTGCGACATCGTATAACGTTACTGGTTTCAT'\n"
   ]
  },
  {
   "cell_type": "code",
   "execution_count": null,
   "metadata": {},
   "outputs": [],
   "source": [
    "len(wild_type_cds)"
   ]
  },
  {
   "cell_type": "code",
   "execution_count": null,
   "metadata": {},
   "outputs": [],
   "source": [
    "wild_type_aminos = str(Seq(wild_type_cds).reverse_complement().translate())"
   ]
  },
  {
   "cell_type": "code",
   "execution_count": null,
   "metadata": {},
   "outputs": [],
   "source": [
    "wild_type_aminos[-6:]"
   ]
  },
  {
   "cell_type": "code",
   "execution_count": null,
   "metadata": {
    "scrolled": true
   },
   "outputs": [],
   "source": [
    "%%time\n",
    "# Add column for amino acid sequence and distance from wild-type\n",
    "\n",
    "lacI_amino_seq = []\n",
    "amino_distance = []\n",
    "\n",
    "for index, row in count_frame_16.iterrows():\n",
    "    if row[\"hasConfidentCds\"]:\n",
    "        try:\n",
    "            trans_this = str(Seq(row[\"concensus_cds\"]).reverse_complement().translate())\n",
    "            dist = fitness.hamming_distance(wild_type_aminos, trans_this)\n",
    "        except:\n",
    "            trans_this = \"\"\n",
    "            dist = -1\n",
    "    else:\n",
    "        trans_this = \"\"\n",
    "        dist = -1\n",
    "        \n",
    "    lacI_amino_seq.append(trans_this)\n",
    "    amino_distance.append(dist)\n",
    "    if index%5000 == 0:\n",
    "        print(index)\n",
    "\n",
    "count_frame_16[\"lacI_amino_seq\"] = lacI_amino_seq\n",
    "count_frame_16[\"lacI_amino_mutations\"] = amino_distance"
   ]
  },
  {
   "cell_type": "code",
   "execution_count": null,
   "metadata": {},
   "outputs": [],
   "source": [
    "%%time\n",
    "\n",
    "# For each variant, create list of amino acid changes from wild-type\n",
    "aminos_list = list(count_frame_16[\"lacI_amino_seq\"])\n",
    "amino_distance = list(count_frame_16[\"lacI_amino_mutations\"])\n",
    "\n",
    "mutations_lists = []\n",
    "\n",
    "for amino, dist in zip(aminos_list, amino_distance):\n",
    "    mutations = []\n",
    "    if (dist<=12) and (dist>=0):\n",
    "        #This version only marks mutations codes up to amino acid 324 (excluding the tetramerization domains)\n",
    "        #for ind, (c1, c2) in enumerate(zip(amino[:324], wild_type_aminos[:324])):\n",
    "        \n",
    "        # This version marks all mutations\n",
    "        for ind, (c1, c2) in enumerate(zip(amino, wild_type_aminos)): \n",
    "            if c1 != c2:\n",
    "                mutations.append(f\"{c2}{ind+1}{c1}\")\n",
    "    mutations_lists.append(mutations)\n",
    "    \n",
    "count_frame_16[\"mutation_codes\"] = mutations_lists"
   ]
  },
  {
   "cell_type": "code",
   "execution_count": null,
   "metadata": {},
   "outputs": [],
   "source": []
  },
  {
   "cell_type": "code",
   "execution_count": null,
   "metadata": {},
   "outputs": [],
   "source": [
    "\n",
    "fit_params_list = []\n",
    "fit_errs_list = []\n",
    "fit_samples_list = []\n",
    " \n",
    "for index, row in count_frame_16.iterrows():\n",
    "    params = row[\"sensor_params\"]\n",
    "    param_errs = np.sqrt(np.diagonal(row[\"sensor_params_cov\"]))\n",
    "    param_samples = row[\"sensor_stan_samples\"]\n",
    "    if len(params) < 7:\n",
    "        params = np.full((7), np.nan)\n",
    "        param_errs = np.full((7), np.nan)\n",
    "        param_samples = np.full((7, 32), np.nan)\n",
    "    fit_params_list.append(params)\n",
    "    fit_errs_list.append(param_errs)\n",
    "    fit_samples_list.append(param_samples)\n",
    "\n",
    "fit_params_arr = np.array(fit_params_list).transpose()\n",
    "fit_errs_arr = np.array(fit_errs_list).transpose()\n",
    "fit_samples_list = np.array(fit_samples_list).transpose((1, 0, 2))\n",
    "\n",
    "param_names = [\"log_low_level\", \"log_high_level\", \"log_ic50\", \"log_n\", \"log_high_low_ratio\"]\n",
    "\n",
    "for params_y, err_y, name, samples in zip(fit_params_arr, fit_errs_arr, param_names, fit_samples_list):\n",
    "    y_label = f'{name}'\n",
    "    err_label = f'{name} error'\n",
    "    samp_lable = f'{name} samples'\n",
    "    \n",
    "    count_frame_16[y_label] = params_y\n",
    "    count_frame_16[err_label] = err_y\n",
    "    \n",
    "    count_frame_16[samp_lable] = [s for s in samples]"
   ]
  },
  {
   "cell_type": "code",
   "execution_count": null,
   "metadata": {},
   "outputs": [],
   "source": []
  },
  {
   "cell_type": "code",
   "execution_count": null,
   "metadata": {},
   "outputs": [],
   "source": [
    "# Re-pickle and save to hdf"
   ]
  },
  {
   "cell_type": "code",
   "execution_count": null,
   "metadata": {},
   "outputs": [],
   "source": [
    "HiSeq_data.experiment"
   ]
  },
  {
   "cell_type": "code",
   "execution_count": null,
   "metadata": {},
   "outputs": [],
   "source": [
    "HiSeq_data.notebook_dir"
   ]
  },
  {
   "cell_type": "code",
   "execution_count": null,
   "metadata": {},
   "outputs": [],
   "source": [
    "HiSeq_data.save_as_pickle()\n",
    "#HiSeq_data.save_as_pickle(notebook_dir=os.getcwd())"
   ]
  },
  {
   "cell_type": "code",
   "execution_count": null,
   "metadata": {},
   "outputs": [],
   "source": [
    "os.getcwd()"
   ]
  },
  {
   "cell_type": "code",
   "execution_count": null,
   "metadata": {},
   "outputs": [],
   "source": [
    "count_frame_16.to_hdf('2019-10-16_IPTG_Select-DNA-5-plates_BarSeqFitnessFrame.hdf', key=\"count_frame_16\")"
   ]
  },
  {
   "cell_type": "code",
   "execution_count": null,
   "metadata": {},
   "outputs": [],
   "source": []
  },
  {
   "cell_type": "code",
   "execution_count": null,
   "metadata": {},
   "outputs": [],
   "source": [
    "# Histogram of log_high_level error and log_low_level error for full library and log_low_level>4.5\n",
    "\n",
    "plt.rcParams[\"figure.figsize\"] = [12,6]\n",
    "fig, axs = plt.subplots(1, 2)\n",
    "\n",
    "x = np.array(count_frame_16[\"log_high_level error\"])\n",
    "x = x[~np.isnan(x)]\n",
    "n, bins, p = axs[0].hist(x, bins=50, density=False, alpha=0.7);\n",
    "\n",
    "plot_frame = count_frame_16[count_frame_16[\"log_low_level\"]>4.5]\n",
    "x = np.array(plot_frame[\"log_high_level error\"])\n",
    "x = x[~np.isnan(x)]\n",
    "axs[0].hist(x, bins=bins, density=False, alpha=0.7);\n",
    "\n",
    "axs[0].set_yscale(\"log\");\n",
    "\n",
    "ylim = axs[0].get_ylim()\n",
    "axs[0].set_ylim(ylim)\n",
    "axs[0].plot([0.7, 0.7], ylim, color='k');\n",
    "\n",
    "\n",
    "x = np.array(count_frame_16[\"log_low_level error\"])\n",
    "x = x[~np.isnan(x)]\n",
    "n, bins, p = axs[1].hist(x, bins=50, density=False, alpha=0.7);\n",
    "\n",
    "plot_frame = count_frame_16[count_frame_16[\"log_low_level\"]>4.5]\n",
    "x = np.array(plot_frame[\"log_low_level error\"])\n",
    "x = x[~np.isnan(x)]\n",
    "axs[1].hist(x, bins=bins, density=False, alpha=0.7);\n",
    "\n",
    "axs[0].set_yscale(\"log\");\n",
    "axs[1].set_yscale(\"log\");"
   ]
  },
  {
   "cell_type": "code",
   "execution_count": null,
   "metadata": {},
   "outputs": [],
   "source": []
  },
  {
   "cell_type": "code",
   "execution_count": null,
   "metadata": {
    "scrolled": false
   },
   "outputs": [],
   "source": [
    "plot_frame = count_frame_16#[count_frame_16[\"log_low_level\"]>4.5]\n",
    "plot_frame1 = plot_frame[plot_frame[\"log_high_level error\"]>0.7]\n",
    "plot_frame2 = plot_frame[plot_frame[\"log_low_level error\"]>0.64]\n",
    "in_colors = [\"indigo\", \"firebrick\"]\n",
    "in_labels=[\"log_high_level error>0.7\", \"log_low_level error>0.64\"]\n",
    "HiSeq_data.plot_hill_params([plot_frame1, plot_frame2], in_labels=in_labels, in_colors=in_colors, error_bars=False);"
   ]
  },
  {
   "cell_type": "code",
   "execution_count": null,
   "metadata": {},
   "outputs": [],
   "source": []
  },
  {
   "cell_type": "code",
   "execution_count": null,
   "metadata": {
    "scrolled": true
   },
   "outputs": [],
   "source": [
    "print(len(plot_frame))\n",
    "for ind in list(plot_frame.index)[:20]:\n",
    "    HiSeq_data.plot_fitness_and_difference_curves(plot_range=[ind, ind], include_ref_seqs=False, show_GP=True)"
   ]
  },
  {
   "cell_type": "code",
   "execution_count": null,
   "metadata": {},
   "outputs": [],
   "source": []
  }
 ],
 "metadata": {
  "kernelspec": {
   "display_name": "Python 3",
   "language": "python",
   "name": "python3"
  },
  "language_info": {
   "codemirror_mode": {
    "name": "ipython",
    "version": 3
   },
   "file_extension": ".py",
   "mimetype": "text/x-python",
   "name": "python",
   "nbconvert_exporter": "python",
   "pygments_lexer": "ipython3",
   "version": "3.6.10"
  }
 },
 "nbformat": 4,
 "nbformat_minor": 2
}
