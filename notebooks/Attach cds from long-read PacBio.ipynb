{
 "cells": [
  {
   "cell_type": "code",
   "execution_count": null,
   "metadata": {},
   "outputs": [],
   "source": [
    "import os\n",
    "import glob\n",
    "import datetime\n",
    "import matplotlib.pyplot as plt\n",
    "from matplotlib import colors\n",
    "import numpy as np\n",
    "import pandas as pd\n",
    "import scipy\n",
    "from scipy.optimize import curve_fit\n",
    "\n",
    "#from Bio import AlignIO\n",
    "from Bio.Align import AlignInfo\n",
    "from Bio.Seq import Seq\n",
    "from Bio.Alphabet import generic_dna\n",
    "from Bio.SeqRecord import SeqRecord\n",
    "from Bio.Align import MultipleSeqAlignment\n",
    "\n",
    "import gsf_ims_fitness as fitness\n",
    "\n",
    "import pickle\n",
    "\n",
    "import random\n",
    "\n",
    "import gzip\n",
    "\n",
    "import seaborn as sns\n",
    "sns.set()\n",
    "\n",
    "#from sklearn.mixture import GaussianMixture\n",
    "#from sklearn.mixture import BayesianGaussianMixture\n",
    "\n",
    "%load_ext autoreload\n",
    "%autoreload 2\n",
    "\n",
    "%matplotlib inline\n",
    "\n",
    "%autosave 0"
   ]
  },
  {
   "cell_type": "code",
   "execution_count": null,
   "metadata": {},
   "outputs": [],
   "source": [
    "notebook_directory = os.getcwd()\n",
    "notebook_directory"
   ]
  },
  {
   "cell_type": "code",
   "execution_count": null,
   "metadata": {},
   "outputs": [],
   "source": [
    "data_directory = notebook_directory + \"\\\\barcode_analysis\"\n",
    "os.chdir(data_directory)\n",
    "os.getcwd()"
   ]
  },
  {
   "cell_type": "code",
   "execution_count": null,
   "metadata": {},
   "outputs": [],
   "source": [
    "glob.glob(\"*reverse_barcode*.csv\")"
   ]
  },
  {
   "cell_type": "code",
   "execution_count": null,
   "metadata": {},
   "outputs": [],
   "source": [
    "reverse_barcode_map_file = glob.glob(\"*reverse_barcode*.csv\")[0]\n",
    "reverse_barcode_map_file"
   ]
  },
  {
   "cell_type": "code",
   "execution_count": null,
   "metadata": {
    "scrolled": true
   },
   "outputs": [],
   "source": [
    "rev_barcode_clusterID_frame = pd.read_csv(reverse_barcode_map_file, skipinitialspace=True)\n",
    "rev_barcode_clusterID_frame[:5]"
   ]
  },
  {
   "cell_type": "code",
   "execution_count": null,
   "metadata": {},
   "outputs": [],
   "source": [
    "reverse_barcode_center_file = glob.glob(\"*reverse_cluster*.csv\")[0]\n",
    "reverse_barcode_center_file"
   ]
  },
  {
   "cell_type": "code",
   "execution_count": null,
   "metadata": {
    "scrolled": true
   },
   "outputs": [],
   "source": [
    "rev_barcode_center_frame = pd.read_csv(reverse_barcode_center_file, skipinitialspace=True)\n",
    "rev_barcode_center_frame.rename(columns={\"time_point_1\": \"HiSeq_count\"}, inplace=True)\n",
    "rev_barcode_center_frame[:5]"
   ]
  },
  {
   "cell_type": "code",
   "execution_count": null,
   "metadata": {},
   "outputs": [],
   "source": [
    "rev_barcode_center_frame.sort_values(by=['HiSeq_count'], ascending=False)[:5]"
   ]
  },
  {
   "cell_type": "code",
   "execution_count": null,
   "metadata": {
    "scrolled": true
   },
   "outputs": [],
   "source": [
    "rev_barcode_clusterID_dict = dict(zip(rev_barcode_clusterID_frame[\"Unique.reads\"], rev_barcode_clusterID_frame[\"Cluster.ID\"]))\n",
    "\n",
    "for index, row in rev_barcode_center_frame.iterrows():\n",
    "    rev_barcode_clusterID_dict[row[\"Center\"]] = row[\"Cluster.ID\"]"
   ]
  },
  {
   "cell_type": "code",
   "execution_count": null,
   "metadata": {},
   "outputs": [],
   "source": [
    "forward_barcode_map_file = glob.glob(\"*forward_barcode*.csv\")[0]\n",
    "forward_barcode_map_file"
   ]
  },
  {
   "cell_type": "code",
   "execution_count": null,
   "metadata": {},
   "outputs": [],
   "source": [
    "for_barcode_clusterID_frame = pd.read_csv(forward_barcode_map_file, skipinitialspace=True)\n",
    "for_barcode_clusterID_frame[:5]"
   ]
  },
  {
   "cell_type": "code",
   "execution_count": null,
   "metadata": {},
   "outputs": [],
   "source": [
    "forward_barcode_center_file = glob.glob(\"*forward_cluster*.csv\")[0]\n",
    "forward_barcode_center_file"
   ]
  },
  {
   "cell_type": "code",
   "execution_count": null,
   "metadata": {
    "scrolled": true
   },
   "outputs": [],
   "source": [
    "for_barcode_center_frame = pd.read_csv(forward_barcode_center_file, skipinitialspace=True)\n",
    "for_barcode_center_frame.rename(columns={\"time_point_1\": \"HiSeq_count\"}, inplace=True)\n",
    "for_barcode_center_frame[:5]"
   ]
  },
  {
   "cell_type": "code",
   "execution_count": null,
   "metadata": {},
   "outputs": [],
   "source": [
    "for_barcode_center_frame.sort_values(by=['HiSeq_count'], ascending=False)[:5]"
   ]
  },
  {
   "cell_type": "code",
   "execution_count": null,
   "metadata": {},
   "outputs": [],
   "source": [
    "for_barcode_clusterID_dict = dict(zip(for_barcode_clusterID_frame[\"Unique.reads\"], for_barcode_clusterID_frame[\"Cluster.ID\"]))\n",
    "\n",
    "for index, row in for_barcode_center_frame.iterrows():\n",
    "    for_barcode_clusterID_dict[row[\"Center\"]] = row[\"Cluster.ID\"]"
   ]
  },
  {
   "cell_type": "code",
   "execution_count": null,
   "metadata": {},
   "outputs": [],
   "source": [
    "os.chdir(notebook_directory)\n",
    "glob.glob(\"*pkl\")"
   ]
  },
  {
   "cell_type": "code",
   "execution_count": null,
   "metadata": {},
   "outputs": [],
   "source": [
    "os.chdir(notebook_directory)\n",
    "pickle_file = 'output_file_label_BarSeqFitnessFrame.pkl'\n",
    "print(pickle_file)\n",
    "\n",
    "barcode_frame = pickle.load(open(pickle_file, 'rb'))\n",
    "\n",
    "hiseq_count_frame = barcode_frame.barcode_frame"
   ]
  },
  {
   "cell_type": "code",
   "execution_count": null,
   "metadata": {},
   "outputs": [],
   "source": [
    "experiment = barcode_frame.experiment\n",
    "experiment"
   ]
  },
  {
   "cell_type": "code",
   "execution_count": null,
   "metadata": {},
   "outputs": [],
   "source": [
    "len(hiseq_count_frame)"
   ]
  },
  {
   "cell_type": "code",
   "execution_count": null,
   "metadata": {},
   "outputs": [],
   "source": [
    "hiseq_count_frame[\"for_BC_ID\"] = [ for_barcode_clusterID_dict[x] for x in hiseq_count_frame[\"forward_BC\"] ]\n",
    "hiseq_count_frame[\"rev_BC_ID\"] = [ rev_barcode_clusterID_dict[x] for x in hiseq_count_frame[\"reverse_BC\"] ]"
   ]
  },
  {
   "cell_type": "code",
   "execution_count": null,
   "metadata": {},
   "outputs": [],
   "source": [
    "hiseq_count_frame[:5]"
   ]
  },
  {
   "cell_type": "code",
   "execution_count": null,
   "metadata": {},
   "outputs": [],
   "source": [
    "hiseq_BC_pairs = []\n",
    "\n",
    "for index, row in hiseq_count_frame.iterrows():\n",
    "    f_bc = row[\"for_BC_ID\"]\n",
    "    r_bc = row[\"rev_BC_ID\"]\n",
    "    hiseq_BC_pairs.append(f\"{f_bc}_{r_bc}\")\n",
    "\n",
    "hiseq_count_frame[\"dual_BC_ID\"] = hiseq_BC_pairs"
   ]
  },
  {
   "cell_type": "code",
   "execution_count": null,
   "metadata": {},
   "outputs": [],
   "source": [
    "len(hiseq_BC_pairs)"
   ]
  },
  {
   "cell_type": "code",
   "execution_count": null,
   "metadata": {},
   "outputs": [],
   "source": []
  },
  {
   "cell_type": "code",
   "execution_count": null,
   "metadata": {},
   "outputs": [],
   "source": [
    "# Dataset no. 1:"
   ]
  },
  {
   "cell_type": "code",
   "execution_count": null,
   "metadata": {},
   "outputs": [],
   "source": [
    "os.chdir(notebook_directory)\n",
    "os.getcwd()"
   ]
  },
  {
   "cell_type": "code",
   "execution_count": null,
   "metadata": {},
   "outputs": [],
   "source": [
    "pac_bio_dir_1 = notebook_directory[:notebook_directory.find(\"E-Coli\")]\n",
    "pac_bio_dir_1 += \"LacI_CCS_analysis\\\\engineering-bio-lacI-landscape\\\\data_1\\\\processed\\\\targets\"\n",
    "os.chdir(pac_bio_dir_1)\n",
    "os.getcwd()"
   ]
  },
  {
   "cell_type": "code",
   "execution_count": null,
   "metadata": {},
   "outputs": [],
   "source": [
    "glob.glob(\"*.tsv.gz\")"
   ]
  },
  {
   "cell_type": "code",
   "execution_count": null,
   "metadata": {},
   "outputs": [],
   "source": [
    "with gzip.open('barcode_1.tsv.gz', 'rb') as f:\n",
    "    bc1_frame_1 = pd.read_csv(f, sep=\"\\t\", skipinitialspace=True)\n",
    "\n",
    "with gzip.open('barcode_2.tsv.gz', 'rb') as f:\n",
    "    bc2_frame_1 = pd.read_csv(f, sep=\"\\t\", skipinitialspace=True)"
   ]
  },
  {
   "cell_type": "code",
   "execution_count": null,
   "metadata": {},
   "outputs": [],
   "source": [
    "with gzip.open('lacI.tsv.gz', 'rb') as f:\n",
    "    lacI_frame_1 = pd.read_csv(f, sep=\"\\t\", skipinitialspace=True)"
   ]
  },
  {
   "cell_type": "code",
   "execution_count": null,
   "metadata": {},
   "outputs": [],
   "source": [
    "lacI_frame_1[:3]"
   ]
  },
  {
   "cell_type": "code",
   "execution_count": null,
   "metadata": {},
   "outputs": [],
   "source": [
    "# Dataset no. 2:"
   ]
  },
  {
   "cell_type": "code",
   "execution_count": null,
   "metadata": {},
   "outputs": [],
   "source": [
    "os.chdir(notebook_directory)\n",
    "os.getcwd()"
   ]
  },
  {
   "cell_type": "code",
   "execution_count": null,
   "metadata": {},
   "outputs": [],
   "source": [
    "pac_bio_dir_2 = notebook_directory[:notebook_directory.find(\"E-Coli\")]\n",
    "pac_bio_dir_2 += \"LacI_CCS_analysis\\\\engineering-bio-lacI-landscape\\\\data_2\\\\processed\\\\targets\"\n",
    "os.chdir(pac_bio_dir_2)\n",
    "os.getcwd()"
   ]
  },
  {
   "cell_type": "code",
   "execution_count": null,
   "metadata": {},
   "outputs": [],
   "source": [
    "glob.glob(\"*.tsv.gz\")"
   ]
  },
  {
   "cell_type": "code",
   "execution_count": null,
   "metadata": {},
   "outputs": [],
   "source": [
    "with gzip.open('barcode_1.tsv.gz', 'rb') as f:\n",
    "    bc1_frame_2 = pd.read_csv(f, sep=\"\\t\", skipinitialspace=True)\n",
    "\n",
    "with gzip.open('barcode_2.tsv.gz', 'rb') as f:\n",
    "    bc2_frame_2 = pd.read_csv(f, sep=\"\\t\", skipinitialspace=True)"
   ]
  },
  {
   "cell_type": "code",
   "execution_count": null,
   "metadata": {},
   "outputs": [],
   "source": [
    "with gzip.open('lacI.tsv.gz', 'rb') as f:\n",
    "    lacI_frame_2 = pd.read_csv(f, sep=\"\\t\", skipinitialspace=True)"
   ]
  },
  {
   "cell_type": "code",
   "execution_count": null,
   "metadata": {
    "scrolled": true
   },
   "outputs": [],
   "source": [
    "lacI_frame_2[:3]"
   ]
  },
  {
   "cell_type": "code",
   "execution_count": null,
   "metadata": {},
   "outputs": [],
   "source": []
  },
  {
   "cell_type": "code",
   "execution_count": null,
   "metadata": {
    "scrolled": true
   },
   "outputs": [],
   "source": [
    "bc1_dict = {}\n",
    "for key, value in zip(bc1_frame_1[\"#name\"], bc1_frame_1[\"seq\"]):\n",
    "    bc1_dict[key] = value\n",
    "for key, value in zip(bc1_frame_2[\"#name\"], bc1_frame_2[\"seq\"]):\n",
    "    bc1_dict[key] = value\n",
    "    \n",
    "bc2_dict = {}\n",
    "for key, value in zip(bc2_frame_1[\"#name\"], bc2_frame_1[\"seq\"]):\n",
    "    bc2_dict[key] = value\n",
    "for key, value in zip(bc2_frame_2[\"#name\"], bc2_frame_2[\"seq\"]):\n",
    "    bc2_dict[key] = value\n",
    "    \n",
    "lacI_dict = {}\n",
    "for key, value in zip(lacI_frame_1[\"#name\"], lacI_frame_1[\"seq\"]):\n",
    "    lacI_dict[key] = value\n",
    "for key, value in zip(lacI_frame_2[\"#name\"], lacI_frame_2[\"seq\"]):\n",
    "    lacI_dict[key] = value"
   ]
  },
  {
   "cell_type": "code",
   "execution_count": null,
   "metadata": {},
   "outputs": [],
   "source": [
    "all_keys = np.unique(np.array(list(bc1_dict.keys()) + list(bc2_dict.keys()) + list(lacI_dict.keys()) ))\n",
    "len(all_keys)"
   ]
  },
  {
   "cell_type": "code",
   "execution_count": null,
   "metadata": {},
   "outputs": [],
   "source": [
    "%%time\n",
    "id_list = []\n",
    "bc2_list = []\n",
    "bc1_list = []\n",
    "cds_list = []\n",
    "\n",
    "for key in all_keys:\n",
    "    if (key in bc1_dict.keys()) & (key in bc2_dict.keys()) & (key in lacI_dict.keys()):\n",
    "        id_list.append(key[:-3])\n",
    "        bc1_list.append(bc1_dict[key])\n",
    "        bc2_list.append(bc2_dict[key])\n",
    "        cds_list.append(lacI_dict[key])"
   ]
  },
  {
   "cell_type": "code",
   "execution_count": null,
   "metadata": {},
   "outputs": [],
   "source": [
    "wild_type_cds = 'TCACTGCCCGCTTTCCAGTCGGGAAACCTGTCGTGCCAGCTGCATTAATGAATCGGCCAACGCGCGGGGAGAGGCGGTTTGCGTATTGGGCGCCAGGGTGGTTTTTCTTTTCACCAGTGAGACTGGCAACAGCTGATTGCCCTTCACCGCCTGGCCCTGAGAGAGTTGCAGCAAGCGGTCCACGCTGGTTTGCCCCAGCAGGCGAAAATCCTGTTTGATGGTGGTTAACGGCGGGATATAACATGAGCTATCTTCGGTATCGTCGTATCCCACTACCGAGATATCCGCACCAACGCGCAGCCCGGACTCGGTAATGGCGCGCATTGCGCCCAGCGCCATCTGATCGTTGGCAACCAGCATCGCAGTGGGAACGATGCCCTCATTCAGCATTTGCATGGTTTGTTGAAAACCGGACATGGCACTCCAGTCGCCTTCCCGTTCCGCTATCGGCTGAATTTGATTGCGAGTGAGATATTTATGCCAGCCAGCCAGACGCAGACGCGCCGAGACAGAACTTAATGGGCCCGCTAACAGCGCGATTTGCTGGTGACCCAATGCGACCAGATGCTCCACGCCCAGTCGCGTACCGTCCTCATGGGAGAAAATAATACTGTTGATGGGTGTCTGGTCAGAGACATCAAGAAATAACGCCGGAACATTAGTGCAGGCAGCTTCCACAGCAATGGCATCCTGGTCATCCAGCGGATAGTTAATGATCAGCCCACTGACGCGTTGCGCGAGAAGATTGTGCACCGCCGCTTTACAGGCTTCGACGCCGCTTCGTTCTACCATCGACACCACCACGCTGGCACCCAGTTGATCGGCGCGAGATTTAATCGCCGCGACAATTTGCGACGGCGCGTGCAGGGCCAGACTGGAGGTGGCAACGCCAATCAGCAACGACTGTTTGCCCGCCAGTTGTTGTGCCACGCGGTTGGGAATGTAATTCAGCTCCGCCATCGCCGCTTCCACTTTTTCCCGCGTTTTCGCAGAAACGTGGCTGGCCTGGTTCACCACGCGGGAAACGGTCTGATAAGAGACACCGGCATACTCTGCGACATCGTATAACGTTACTGGTTTCAT'"
   ]
  },
  {
   "cell_type": "code",
   "execution_count": null,
   "metadata": {},
   "outputs": [],
   "source": [
    "print(cds_list[0][:25])\n",
    "print(wild_type_cds[:25])"
   ]
  },
  {
   "cell_type": "code",
   "execution_count": null,
   "metadata": {},
   "outputs": [],
   "source": []
  },
  {
   "cell_type": "code",
   "execution_count": null,
   "metadata": {},
   "outputs": [],
   "source": [
    "pacbio_frame = pd.DataFrame({\"id\":id_list, \"cterm-bc\":bc2_list, \"nterm-bc\":bc1_list, \"cds\":cds_list})"
   ]
  },
  {
   "cell_type": "code",
   "execution_count": null,
   "metadata": {},
   "outputs": [],
   "source": [
    "len(pacbio_frame)"
   ]
  },
  {
   "cell_type": "code",
   "execution_count": null,
   "metadata": {},
   "outputs": [],
   "source": []
  },
  {
   "cell_type": "code",
   "execution_count": null,
   "metadata": {},
   "outputs": [],
   "source": [
    "pacbio_frame[\"cds_length\"] = [ len(x) for x in pacbio_frame[\"cds\"] ]"
   ]
  },
  {
   "cell_type": "code",
   "execution_count": null,
   "metadata": {},
   "outputs": [],
   "source": [
    "print(pacbio_frame[\"cds_length\"].mode())"
   ]
  },
  {
   "cell_type": "code",
   "execution_count": null,
   "metadata": {
    "scrolled": true
   },
   "outputs": [],
   "source": [
    "print(pacbio_frame[\"cds_length\"].max())"
   ]
  },
  {
   "cell_type": "code",
   "execution_count": null,
   "metadata": {
    "scrolled": true
   },
   "outputs": [],
   "source": [
    "print(pacbio_frame[\"cds_length\"].min())"
   ]
  },
  {
   "cell_type": "code",
   "execution_count": null,
   "metadata": {},
   "outputs": [],
   "source": [
    "cds_length_mode = pacbio_frame[\"cds_length\"].mode().values[0]\n",
    "cds_length_mode"
   ]
  },
  {
   "cell_type": "code",
   "execution_count": null,
   "metadata": {},
   "outputs": [],
   "source": [
    "plt.rcParams[\"figure.figsize\"] = [8, 6]\n",
    "fig, axs = plt.subplots(1, 1)\n",
    "bins= [i+0.5 for i in range(cds_length_mode-10, cds_length_mode+10)]\n",
    "\n",
    "axs.hist(pacbio_frame[\"cds_length\"], bins=bins, alpha=0.7, label=\"lacI\");\n",
    "axs.set_yscale('log');\n",
    "axs.set_xticks([i for i in range(cds_length_mode-10, cds_length_mode+10, 2)]);\n",
    "leg = axs.legend(loc='upper right', bbox_to_anchor= (0.97, 0.97), ncol=1, borderaxespad=0)\n",
    "new_length = len(pacbio_frame[pacbio_frame[\"cds_length\"]==cds_length_mode])\n",
    "print(new_length)\n",
    "print(new_length/len(pacbio_frame))"
   ]
  },
  {
   "cell_type": "code",
   "execution_count": null,
   "metadata": {},
   "outputs": [],
   "source": [
    "pacbio_frame = pacbio_frame[pacbio_frame[\"cds_length\"]==pacbio_frame[\"cds_length\"].mode().values[0]].copy()"
   ]
  },
  {
   "cell_type": "code",
   "execution_count": null,
   "metadata": {},
   "outputs": [],
   "source": [
    "pacbio_frame = pacbio_frame[~pacbio_frame[\"nterm-bc\"].isnull()]\n",
    "pacbio_frame = pacbio_frame[~pacbio_frame[\"cterm-bc\"].isnull()]"
   ]
  },
  {
   "cell_type": "code",
   "execution_count": null,
   "metadata": {},
   "outputs": [],
   "source": [
    "print(len(pacbio_frame))"
   ]
  },
  {
   "cell_type": "code",
   "execution_count": null,
   "metadata": {},
   "outputs": [],
   "source": []
  },
  {
   "cell_type": "code",
   "execution_count": null,
   "metadata": {
    "scrolled": false
   },
   "outputs": [],
   "source": [
    "%%time\n",
    "\n",
    "for_match_num = 0\n",
    "rev_match_num = 0\n",
    "for_barcodeID_list = []\n",
    "rev_barcodeID_list = []\n",
    "for index, row in pacbio_frame.iterrows():\n",
    "    barcode = row[\"nterm-bc\"]\n",
    "    #barcode = barcode[1:-2]\n",
    "    if barcode in for_barcode_clusterID_dict:\n",
    "        for_barcodeID_list.append(for_barcode_clusterID_dict[barcode])\n",
    "        for_match_num += 1\n",
    "    else:\n",
    "        for_barcodeID_list.append(-1)\n",
    "    \n",
    "    barcode = row[\"cterm-bc\"]\n",
    "    #barcode = reverse_complement(barcode[1:-1])\n",
    "    barcode = str(Seq(barcode).reverse_complement())\n",
    "    if barcode in rev_barcode_clusterID_dict:\n",
    "        rev_barcodeID_list.append(rev_barcode_clusterID_dict[barcode])\n",
    "        rev_match_num += 1\n",
    "    else:\n",
    "        rev_barcodeID_list.append(-1)\n",
    "        \n",
    "pacbio_frame[\"for_BC_ID\"] = for_barcodeID_list\n",
    "pacbio_frame[\"rev_BC_ID\"] = rev_barcodeID_list\n",
    "\n",
    "print(for_match_num)\n",
    "print(rev_match_num)"
   ]
  },
  {
   "cell_type": "code",
   "execution_count": null,
   "metadata": {},
   "outputs": [],
   "source": [
    "len(pacbio_frame) - for_match_num"
   ]
  },
  {
   "cell_type": "code",
   "execution_count": null,
   "metadata": {},
   "outputs": [],
   "source": [
    "pacbio_BC_pairs = []\n",
    "\n",
    "for f_bc, r_bc in zip(pacbio_frame[\"for_BC_ID\"], pacbio_frame[\"rev_BC_ID\"]):\n",
    "    pacbio_BC_pairs.append(f\"{f_bc}_{r_bc}\")\n",
    "\n",
    "pacbio_frame[\"dual_BC_ID\"] = pacbio_BC_pairs"
   ]
  },
  {
   "cell_type": "code",
   "execution_count": null,
   "metadata": {},
   "outputs": [],
   "source": [
    "len(pacbio_frame)"
   ]
  },
  {
   "cell_type": "code",
   "execution_count": null,
   "metadata": {},
   "outputs": [],
   "source": [
    "# fraction of PacBio reads that have one of the matching barcodes\n",
    "print(len(pacbio_frame[pacbio_frame[\"for_BC_ID\"]!=-1])/len(pacbio_frame))\n",
    "print(len(pacbio_frame[pacbio_frame[\"rev_BC_ID\"]!=-1])/len(pacbio_frame))"
   ]
  },
  {
   "cell_type": "code",
   "execution_count": null,
   "metadata": {},
   "outputs": [],
   "source": [
    "# fraction of PacBio reads that have both matching barcodes\n",
    "print(len(pacbio_frame[(pacbio_frame[\"rev_BC_ID\"]>-1) & (pacbio_frame[\"for_BC_ID\"]>-1)])/len(pacbio_frame))"
   ]
  },
  {
   "cell_type": "code",
   "execution_count": null,
   "metadata": {},
   "outputs": [],
   "source": [
    "# fraction of PacBio reads that have dual barcode matching a dual barcode from the HiSeq data\n",
    "print(len(pacbio_frame[pacbio_frame[\"dual_BC_ID\"].isin(hiseq_BC_pairs)])/len(pacbio_frame))"
   ]
  },
  {
   "cell_type": "code",
   "execution_count": null,
   "metadata": {},
   "outputs": [],
   "source": [
    "len(pacbio_frame[~pacbio_frame[\"dual_BC_ID\"].isin(hiseq_BC_pairs)])"
   ]
  },
  {
   "cell_type": "code",
   "execution_count": null,
   "metadata": {},
   "outputs": [],
   "source": [
    "hiseq_BC_pairs_series = pd.Series(hiseq_BC_pairs)\n",
    "hiseq_BC_pairs_series_2 = hiseq_BC_pairs_series[hiseq_BC_pairs_series.isin(pacbio_frame[\"dual_BC_ID\"])]"
   ]
  },
  {
   "cell_type": "code",
   "execution_count": null,
   "metadata": {},
   "outputs": [],
   "source": [
    "# fraction of HiSeq double barcodes that have matching barcodes in the PacBio dataset\n",
    "print(len(hiseq_BC_pairs_series_2)/len(hiseq_BC_pairs))"
   ]
  },
  {
   "cell_type": "code",
   "execution_count": null,
   "metadata": {},
   "outputs": [],
   "source": [
    "# number of HiSeq double barcodes that have matching barcodes in the PacBio dataset\n",
    "print(len(hiseq_BC_pairs_series_2))"
   ]
  },
  {
   "cell_type": "code",
   "execution_count": null,
   "metadata": {},
   "outputs": [],
   "source": [
    "# number of unique dual barcodes found in the PacBio data\n",
    "#    (not necessarily dual barcode pairs that showed up in the HiSeq)\n",
    "print(len(pacbio_frame[pacbio_frame[\"dual_BC_ID\"].str.contains(\"-1\")==False][\"dual_BC_ID\"].unique()))"
   ]
  },
  {
   "cell_type": "code",
   "execution_count": null,
   "metadata": {},
   "outputs": [],
   "source": [
    "#number of barcodes in HiSeq dataset\n",
    "len(hiseq_count_frame)"
   ]
  },
  {
   "cell_type": "code",
   "execution_count": null,
   "metadata": {},
   "outputs": [],
   "source": [
    "def distance(str1, str2):\n",
    "    if len(str1) != len(str2):\n",
    "        raise ValueError(\"Strand lengths are not equal!\")\n",
    "    else:\n",
    "        count = 0\n",
    "        for (a, b) in zip(str1, str2):\n",
    "            if a!=b:\n",
    "                if ( (a=='X') or (b=='X') ):\n",
    "                    count += 0.5\n",
    "                else:\n",
    "                    count += 1\n",
    "                \n",
    "    return count"
   ]
  },
  {
   "cell_type": "code",
   "execution_count": null,
   "metadata": {},
   "outputs": [],
   "source": [
    "def trim_errors(err_list):\n",
    "    if len(err_list)<=2:\n",
    "        return err_list\n",
    "    else:\n",
    "        #if there are 3 or more terms, throw out outliers\n",
    "        err_list.sort()\n",
    "        #if there are 2 sequences with a low error rate relative to the consensus, assume they are the \"good\" reads.\n",
    "        err_list = [err for err in err_list if err<=err_list[1]]\n",
    "        return err_list"
   ]
  },
  {
   "cell_type": "code",
   "execution_count": null,
   "metadata": {},
   "outputs": [],
   "source": []
  },
  {
   "cell_type": "code",
   "execution_count": null,
   "metadata": {},
   "outputs": [],
   "source": [
    "cds_length = cds_length_mode\n",
    "cds_length"
   ]
  },
  {
   "cell_type": "code",
   "execution_count": null,
   "metadata": {},
   "outputs": [],
   "source": []
  },
  {
   "cell_type": "code",
   "execution_count": null,
   "metadata": {},
   "outputs": [],
   "source": [
    "%%time\n",
    "\n",
    "#Calculate consensus cds for each dual barcode and cds read error rate relative to consensus\n",
    "\n",
    "dual_cds_list = list(pacbio_frame[(pacbio_frame[\"for_BC_ID\"]!=-1) & (pacbio_frame[\"rev_BC_ID\"]!=-1)][\"cds\"].values)\n",
    "\n",
    "dual_concensus_cds_list = []\n",
    "dual_cds_err_rate = []\n",
    "dual_cluster_size_list = []\n",
    "dual_cds_err_rate_rand = []\n",
    "\n",
    "for bc_id in hiseq_count_frame[\"dual_BC_ID\"]:\n",
    "    df = pacbio_frame[pacbio_frame[\"dual_BC_ID\"]==bc_id]\n",
    "    \n",
    "    dual_cluster_size_list.append(len(df))\n",
    "    \n",
    "    cds_list = df[\"cds\"]\n",
    "    \n",
    "    if len(cds_list)>1:\n",
    "        #first do non-random matches\n",
    "        alignment = MultipleSeqAlignment([ SeqRecord(Seq(x)) for x in cds_list ])\n",
    "        summary_align = AlignInfo.SummaryInfo(alignment)\n",
    "        concensus_cds = str(summary_align.dumb_consensus(threshold=0.2, consensus_alpha=generic_dna))\n",
    "        dual_concensus_cds_list.append(concensus_cds)\n",
    "        errors = []\n",
    "        for c in cds_list:\n",
    "            errors.append(distance(c, concensus_cds))\n",
    "        errors = trim_errors(errors)\n",
    "        dual_cds_err_rate.append(sum(errors)/len(errors)/cds_length)\n",
    "        \n",
    "        #then do the same thing, but for randomly chaosen sets of cds\n",
    "        alignment = MultipleSeqAlignment([ SeqRecord(Seq(x)) for x in random.sample(dual_cds_list, len(cds_list)) ])\n",
    "        summary_align = AlignInfo.SummaryInfo(alignment)\n",
    "        concensus_cds = str(summary_align.dumb_consensus(threshold=0.2, consensus_alpha=generic_dna))\n",
    "        errors = []\n",
    "        for c in cds_list:\n",
    "            errors.append(distance(c, concensus_cds))\n",
    "        errors = trim_errors(errors)\n",
    "        dual_cds_err_rate_rand.append(sum(errors)/len(errors)/cds_length)\n",
    "    else:\n",
    "        if len(cds_list)==1:\n",
    "            dual_concensus_cds_list.append(cds_list.iloc[0])\n",
    "        else:\n",
    "            dual_concensus_cds_list.append(\"\")\n",
    "        dual_cds_err_rate.append(0)\n",
    "        dual_cds_err_rate_rand.append(0)\n",
    "    \n",
    "hiseq_count_frame[\"concensus_cds\"] = dual_concensus_cds_list\n",
    "hiseq_count_frame[\"cds_error_rate\"] = dual_cds_err_rate\n",
    "hiseq_count_frame[\"pacbio_count\"] = dual_cluster_size_list\n",
    "hiseq_count_frame[\"cds_error_rate_rand\"] = dual_cds_err_rate_rand"
   ]
  },
  {
   "cell_type": "code",
   "execution_count": null,
   "metadata": {},
   "outputs": [],
   "source": [
    "len(hiseq_count_frame)"
   ]
  },
  {
   "cell_type": "code",
   "execution_count": null,
   "metadata": {},
   "outputs": [],
   "source": [
    "# How many cds assigments?\n",
    "print(len(hiseq_count_frame[hiseq_count_frame[\"concensus_cds\"]!=\"\"]))"
   ]
  },
  {
   "cell_type": "code",
   "execution_count": null,
   "metadata": {},
   "outputs": [],
   "source": []
  },
  {
   "cell_type": "code",
   "execution_count": null,
   "metadata": {},
   "outputs": [],
   "source": [
    "%%time\n",
    "\n",
    "#Calcualte mutation rate of consensus cds relative to wild type cds\n",
    "\n",
    "concensus_mutation_rate_list = []\n",
    "\n",
    "for index, row in hiseq_count_frame.iterrows():\n",
    "    consensus_cds = row[\"concensus_cds\"]\n",
    "    if consensus_cds!=\"\":\n",
    "        errors = fitness.hamming_distance(consensus_cds, wild_type_cds)\n",
    "        \n",
    "        concensus_mutation_rate_list.append(errors/cds_length)\n",
    "    \n",
    "    else:\n",
    "        concensus_mutation_rate_list.append(-1)\n",
    "    \n",
    "hiseq_count_frame[\"concensus_cds_mutation_rate\"] = concensus_mutation_rate_list"
   ]
  },
  {
   "cell_type": "code",
   "execution_count": null,
   "metadata": {},
   "outputs": [],
   "source": [
    "print(len(hiseq_count_frame[hiseq_count_frame[\"pacbio_count\"]==1]))"
   ]
  },
  {
   "cell_type": "code",
   "execution_count": null,
   "metadata": {},
   "outputs": [],
   "source": [
    "print(len(hiseq_count_frame[hiseq_count_frame[\"pacbio_count\"]>1]))"
   ]
  },
  {
   "cell_type": "code",
   "execution_count": null,
   "metadata": {},
   "outputs": [],
   "source": []
  },
  {
   "cell_type": "code",
   "execution_count": null,
   "metadata": {},
   "outputs": [],
   "source": [
    "plt.rcParams[\"figure.figsize\"] = [16,8]\n",
    "fig, axs = plt.subplots(1, 2)\n",
    "fig.suptitle('PacBio Barcode Reads', y=0.95, fontsize=24)\n",
    "\n",
    "bins = [n+0.5 for n in range(-1,100)]\n",
    "\n",
    "dual_cluster_size_list = hiseq_count_frame[\"pacbio_count\"]\n",
    "\n",
    "axs[0].hist(dual_cluster_size_list[(dual_cluster_size_list>0) & (dual_cluster_size_list<1000)],\n",
    "            bins=bins, alpha=1);\n",
    "axs[0].hist(dual_cluster_size_list[(dual_cluster_size_list>0) & (dual_cluster_size_list<1000)], cumulative=-1,\n",
    "            bins=bins, histtype='step', color=sns.color_palette()[0]);\n",
    "axs[0].set_yscale('log');\n",
    "\n",
    "axs[1].hist(dual_cluster_size_list[(dual_cluster_size_list>0) & (dual_cluster_size_list<1000)],\n",
    "            bins=bins, alpha=1, label=\"new\");\n",
    "\n",
    "axs[1].set_xlim(-1,50);\n",
    "#axs[0].set_ylim(0.7,120000);\n",
    "for ax in axs.flatten():\n",
    "    ax.set_xlabel('PacBio Read Count', size=20)\n",
    "    ax.set_ylabel('Number of Barcodes', size=20)\n",
    "    ax.tick_params(labelsize=16);\n",
    "#leg = axs[1].legend(loc='upper right', bbox_to_anchor= (0.97, 0.97), ncol=1, borderaxespad=0)"
   ]
  },
  {
   "cell_type": "code",
   "execution_count": null,
   "metadata": {},
   "outputs": [],
   "source": []
  },
  {
   "cell_type": "code",
   "execution_count": null,
   "metadata": {},
   "outputs": [],
   "source": []
  },
  {
   "cell_type": "code",
   "execution_count": null,
   "metadata": {},
   "outputs": [],
   "source": [
    "plt.rcParams[\"figure.figsize\"] = [10,10]\n",
    "fig, axs = plt.subplots(1, 1)\n",
    "\n",
    "f_x = hiseq_count_frame[\"pacbio_count\"]\n",
    "\n",
    "f_y = hiseq_count_frame[\"total_counts\"]\n",
    "f_y2 = hiseq_count_frame[\"total_counts_plate_2\"]\n",
    "\n",
    "axs.plot(f_x, f_y, \"o\")#, alpha=0.7, label=\"forward\");\n",
    "axs.plot(f_x, f_y2, \"o\", alpha=0.5, ms=3);\n",
    "axs.set_yscale('log');\n",
    "axs.set_xscale('log');\n",
    "\n",
    "axs.set_xlabel('PacBio Count per Barcode', size=20)\n",
    "axs.set_ylabel('HiSeq Count per Barcode', size=20);\n",
    "axs.tick_params(labelsize=16);\n",
    "#leg = axs.legend(loc='lower right', bbox_to_anchor= (0.95, 0.05), ncol=1, borderaxespad=0, frameon=True, fontsize=16)\n",
    "#leg.get_frame().set_edgecolor('k');"
   ]
  },
  {
   "cell_type": "code",
   "execution_count": null,
   "metadata": {},
   "outputs": [],
   "source": []
  },
  {
   "cell_type": "code",
   "execution_count": null,
   "metadata": {},
   "outputs": [],
   "source": [
    "plt.rcParams[\"figure.figsize\"] = [16,8]\n",
    "fig, axs = plt.subplots(1, 2)\n",
    "\n",
    "count_thresh = 2\n",
    "\n",
    "dual_error_rate_list = hiseq_count_frame[hiseq_count_frame[\"pacbio_count\"]>=count_thresh]\n",
    "dual_error_rate_list = dual_error_rate_list[\"cds_error_rate\"]\n",
    "\n",
    "dual_error_rate_list_3 = hiseq_count_frame[hiseq_count_frame[\"pacbio_count\"]>=3]\n",
    "dual_error_rate_list_3 = dual_error_rate_list_3[\"cds_error_rate\"]\n",
    "\n",
    "dual_error_rate_list_rand = hiseq_count_frame[hiseq_count_frame[\"pacbio_count\"]>=count_thresh]\n",
    "dual_error_rate_list_rand = dual_error_rate_list_rand[\"cds_error_rate_rand\"]\n",
    "\n",
    "bins = [(n+0.5)/cds_length for n in range(-1,20)]\n",
    "\n",
    "axs[0].set_yscale('log');\n",
    "\n",
    "for ax in axs:\n",
    "    ax.hist(dual_error_rate_list, alpha=0.5, bins=bins, label=\"matching barcodes\");\n",
    "    ax.hist(dual_error_rate_list_rand, alpha=0.5, bins=bins, label=\"random barcodes\");\n",
    "    ax.hist(dual_error_rate_list_3, alpha=0.5, bins=bins, label=\"matching with > 2 reads\");\n",
    "    \n",
    "    ax.set_xlabel('CDS Mismatch Rate', size=20)\n",
    "    ax.set_ylabel('Number of Barcodes', size=20);\n",
    "    ax.tick_params(labelsize=16);\n",
    "    \n",
    "    leg = ax.legend(loc='upper right', bbox_to_anchor= (0.975, 0.975), ncol=1, borderaxespad=0, frameon=True, fontsize=16)\n",
    "    leg.get_frame().set_edgecolor('k');"
   ]
  },
  {
   "cell_type": "code",
   "execution_count": null,
   "metadata": {},
   "outputs": [],
   "source": []
  },
  {
   "cell_type": "code",
   "execution_count": null,
   "metadata": {},
   "outputs": [],
   "source": [
    "plt.rcParams[\"figure.figsize\"] = [16,8]\n",
    "fig, axs = plt.subplots(1, 2)\n",
    "\n",
    "count_thresh = 2\n",
    "\n",
    "dual_error_rate_list = hiseq_count_frame[hiseq_count_frame[\"pacbio_count\"]>=count_thresh]\n",
    "dual_error_rate_list = dual_error_rate_list[\"cds_error_rate\"]\n",
    "\n",
    "mutation_rate_list = hiseq_count_frame[hiseq_count_frame[\"pacbio_count\"]>=count_thresh]\n",
    "mutation_rate_list = mutation_rate_list[\"concensus_cds_mutation_rate\"]\n",
    "\n",
    "dual_error_rate_list_rand = hiseq_count_frame[hiseq_count_frame[\"pacbio_count\"]>=count_thresh]\n",
    "dual_error_rate_list_rand = dual_error_rate_list_rand[\"cds_error_rate_rand\"]\n",
    "\n",
    "bins = [(n+0.5)/cds_length for n in range(-1,20)]\n",
    "\n",
    "axs[0].set_yscale('log');\n",
    "\n",
    "for ax in axs:\n",
    "    ax.hist(mutation_rate_list, alpha=0.5, bins=bins, label=\"mutation rate\");\n",
    "    #ax.hist(dual_error_rate_list, alpha=0.5, bins=bins, label=\"matching barcodes\");\n",
    "    ax.hist(dual_error_rate_list_rand, alpha=0.5, bins=bins, label=\"random barcodes\");\n",
    "    \n",
    "    ax.set_xlabel('CDS Mismatch Rate', size=20)\n",
    "    ax.set_ylabel('Number of Barcodes', size=20);\n",
    "    ax.tick_params(labelsize=16);\n",
    "    \n",
    "    leg = ax.legend(loc='upper right', bbox_to_anchor= (0.975, 0.975), ncol=1, borderaxespad=0, frameon=True, fontsize=16)\n",
    "    leg.get_frame().set_edgecolor('k');"
   ]
  },
  {
   "cell_type": "code",
   "execution_count": null,
   "metadata": {},
   "outputs": [],
   "source": []
  },
  {
   "cell_type": "code",
   "execution_count": null,
   "metadata": {
    "scrolled": true
   },
   "outputs": [],
   "source": [
    "current_palette = sns.color_palette()\n",
    "sns.palplot(current_palette)"
   ]
  },
  {
   "cell_type": "code",
   "execution_count": null,
   "metadata": {},
   "outputs": [],
   "source": [
    "plt.rcParams[\"figure.figsize\"] = [16,8]\n",
    "fig, axs = plt.subplots(1, 2)\n",
    "\n",
    "count_thresh = 2\n",
    "\n",
    "dual_error_rate_list = hiseq_count_frame[hiseq_count_frame[\"pacbio_count\"]>=count_thresh]\n",
    "dual_error_rate_list = dual_error_rate_list[\"cds_error_rate\"]\n",
    "\n",
    "dual_error_rate_list_3 = hiseq_count_frame[hiseq_count_frame[\"pacbio_count\"]>=3]\n",
    "dual_error_rate_list_3 = dual_error_rate_list_3[\"cds_error_rate\"]\n",
    "\n",
    "dual_error_rate_list_rand = hiseq_count_frame[hiseq_count_frame[\"pacbio_count\"]>=count_thresh]\n",
    "dual_error_rate_list_rand = dual_error_rate_list_rand[\"cds_error_rate_rand\"]\n",
    "\n",
    "mutation_rate_list = hiseq_count_frame[hiseq_count_frame[\"pacbio_count\"]>=count_thresh+2]\n",
    "mutation_rate_list = mutation_rate_list[\"concensus_cds_mutation_rate\"]\n",
    "\n",
    "bins = [(n+0.5) for n in range(-1,21)]\n",
    "\n",
    "axs[0].set_yscale('log');\n",
    "\n",
    "for ax in axs:\n",
    "    ax.hist(dual_error_rate_list*cds_length, alpha=0.5, bins=bins, label=\"matching barcodes\", color=current_palette[0]);\n",
    "    ax.hist(dual_error_rate_list_rand*cds_length, alpha=0.5, bins=bins, label=\"random barcodes\", color=current_palette[1]);\n",
    "    ax.hist(mutation_rate_list*cds_length, alpha=0.5, bins=bins, label=\"difference from w-t\", color=current_palette[2]);\n",
    "    #ax.hist(dual_error_rate_list_3, alpha=0.5, bins=bins, label=\"matching with > 2 reads\", color=current_palette[2]);\n",
    "    \n",
    "    ax.set_xlabel('CDS Error/Mutation Rate', size=20)\n",
    "    ax.set_ylabel('Number of Barcodes', size=20);\n",
    "    ax.tick_params(labelsize=16);\n",
    "    \n",
    "    leg = ax.legend(loc='upper right', bbox_to_anchor= (0.975, 0.975), ncol=1, borderaxespad=0, frameon=True, fontsize=16)\n",
    "    leg.get_frame().set_edgecolor('k');"
   ]
  },
  {
   "cell_type": "code",
   "execution_count": null,
   "metadata": {},
   "outputs": [],
   "source": []
  },
  {
   "cell_type": "code",
   "execution_count": null,
   "metadata": {},
   "outputs": [],
   "source": [
    "len(hiseq_count_frame[hiseq_count_frame[\"pacbio_count\"]==1])"
   ]
  },
  {
   "cell_type": "code",
   "execution_count": null,
   "metadata": {},
   "outputs": [],
   "source": [
    "2/cds_length"
   ]
  },
  {
   "cell_type": "code",
   "execution_count": null,
   "metadata": {},
   "outputs": [],
   "source": [
    "len(hiseq_count_frame)"
   ]
  },
  {
   "cell_type": "code",
   "execution_count": null,
   "metadata": {},
   "outputs": [],
   "source": [
    "hiseq_selection_1 = hiseq_count_frame[\"pacbio_count\"]==1\n",
    "hiseq_selection_2 = (hiseq_count_frame[\"pacbio_count\"]>=2) & (hiseq_count_frame[\"cds_error_rate\"]<2/cds_length)"
   ]
  },
  {
   "cell_type": "code",
   "execution_count": null,
   "metadata": {},
   "outputs": [],
   "source": [
    "hiseq_count_frame[\"hasConfidentCds\"] = (hiseq_selection_1 | hiseq_selection_2)"
   ]
  },
  {
   "cell_type": "code",
   "execution_count": null,
   "metadata": {},
   "outputs": [],
   "source": [
    "hiseq_count_frame[:5][[\"pacbio_count\", \"hasConfidentCds\", \"cds_error_rate\"]]"
   ]
  },
  {
   "cell_type": "code",
   "execution_count": null,
   "metadata": {},
   "outputs": [],
   "source": [
    "# How many variants are at the margin: pacbio_count==2 and cds_error_rate==1/cds_length?\n",
    "frame = hiseq_count_frame\n",
    "frame = frame[frame[\"pacbio_count\"]==2]\n",
    "frame = frame[frame[\"cds_error_rate\"]==1/cds_length]\n",
    "len(frame)"
   ]
  },
  {
   "cell_type": "code",
   "execution_count": null,
   "metadata": {},
   "outputs": [],
   "source": [
    "notebook_directory"
   ]
  },
  {
   "cell_type": "code",
   "execution_count": null,
   "metadata": {},
   "outputs": [],
   "source": [
    "data_directory"
   ]
  },
  {
   "cell_type": "code",
   "execution_count": null,
   "metadata": {},
   "outputs": [],
   "source": [
    "barcode_frame.notebook_dir"
   ]
  },
  {
   "cell_type": "code",
   "execution_count": null,
   "metadata": {},
   "outputs": [],
   "source": [
    "barcode_frame.data_directory"
   ]
  },
  {
   "cell_type": "code",
   "execution_count": null,
   "metadata": {},
   "outputs": [],
   "source": [
    "# This might be necessary becasue the Stan fits were run on AWS.\n",
    "#    notebook_dir and data_directory should be set to the appropriate directories on the JCloud\n",
    "#barcode_frame.notebook_dir = notebook_directory\n",
    "#barcode_frame.data_directory = data_directory"
   ]
  },
  {
   "cell_type": "code",
   "execution_count": null,
   "metadata": {},
   "outputs": [],
   "source": [
    "barcode_frame.save_as_pickle() # Use this version when running with data in place on JCloud\n",
    "#barcode_frame.save_as_pickle(notebook_dir=notebook_directory) # Use this version when running with data on a local PC/HD"
   ]
  },
  {
   "cell_type": "code",
   "execution_count": null,
   "metadata": {},
   "outputs": [],
   "source": []
  },
  {
   "cell_type": "code",
   "execution_count": null,
   "metadata": {},
   "outputs": [],
   "source": [
    "out_frame = hiseq_count_frame[hiseq_count_frame[\"hasConfidentCds\"]]\n",
    "out_frame = out_frame[[\"forward_BC\", \"reverse_BC\", \"total_counts\", \"dual_BC_ID\",\n",
    "                       \"cds_error_rate\", \"pacbio_count\", \"concensus_cds\"]]"
   ]
  },
  {
   "cell_type": "code",
   "execution_count": null,
   "metadata": {},
   "outputs": [],
   "source": [
    "# number of barcode pairs for which we have a good reason to think we know the cds\n",
    "len(out_frame)"
   ]
  },
  {
   "cell_type": "code",
   "execution_count": null,
   "metadata": {},
   "outputs": [],
   "source": [
    "len(out_frame)/len(hiseq_count_frame)"
   ]
  },
  {
   "cell_type": "code",
   "execution_count": null,
   "metadata": {},
   "outputs": [],
   "source": [
    "out_frame[:3]"
   ]
  },
  {
   "cell_type": "code",
   "execution_count": null,
   "metadata": {},
   "outputs": [],
   "source": [
    "out_frame[out_frame[\"total_counts\"]==out_frame[\"total_counts\"].min()]"
   ]
  },
  {
   "cell_type": "code",
   "execution_count": null,
   "metadata": {},
   "outputs": [],
   "source": []
  },
  {
   "cell_type": "code",
   "execution_count": null,
   "metadata": {},
   "outputs": [],
   "source": []
  }
 ],
 "metadata": {
  "kernelspec": {
   "display_name": "Python 3",
   "language": "python",
   "name": "python3"
  },
  "language_info": {
   "codemirror_mode": {
    "name": "ipython",
    "version": 3
   },
   "file_extension": ".py",
   "mimetype": "text/x-python",
   "name": "python",
   "nbconvert_exporter": "python",
   "pygments_lexer": "ipython3",
   "version": "3.6.10"
  }
 },
 "nbformat": 4,
 "nbformat_minor": 2
}
